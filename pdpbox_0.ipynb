{
 "cells": [
  {
   "cell_type": "code",
   "execution_count": 5,
   "id": "3cf923d7-3232-427e-bdd7-bfd0f7a3395c",
   "metadata": {},
   "outputs": [
    {
     "name": "stdout",
     "output_type": "stream",
     "text": [
      "Requirement already satisfied: pdpbox in c:\\users\\xuzhao\\anaconda3\\lib\\site-packages (0.3.0)\n",
      "Requirement already satisfied: joblib>=1.1.0 in c:\\users\\xuzhao\\anaconda3\\lib\\site-packages (from pdpbox) (1.4.2)\n",
      "Requirement already satisfied: matplotlib>=3.6.2 in c:\\users\\xuzhao\\anaconda3\\lib\\site-packages (from pdpbox) (3.9.2)\n",
      "Requirement already satisfied: numpy>=1.21.5 in c:\\users\\xuzhao\\anaconda3\\lib\\site-packages (from pdpbox) (1.26.4)\n",
      "Requirement already satisfied: pandas>=1.4.4 in c:\\users\\xuzhao\\anaconda3\\lib\\site-packages (from pdpbox) (2.2.2)\n",
      "Requirement already satisfied: plotly>=5.9.0 in c:\\users\\xuzhao\\anaconda3\\lib\\site-packages (from pdpbox) (5.24.1)\n",
      "Requirement already satisfied: pqdm>=0.2.0 in c:\\users\\xuzhao\\anaconda3\\lib\\site-packages (from pdpbox) (0.2.0)\n",
      "Requirement already satisfied: psutil>=5.9.0 in c:\\users\\xuzhao\\anaconda3\\lib\\site-packages (from pdpbox) (5.9.0)\n",
      "Requirement already satisfied: pytest in c:\\users\\xuzhao\\anaconda3\\lib\\site-packages (from pdpbox) (7.4.4)\n",
      "Requirement already satisfied: scikit-learn>=1.0.2 in c:\\users\\xuzhao\\anaconda3\\lib\\site-packages (from pdpbox) (1.5.1)\n",
      "Requirement already satisfied: setuptools in c:\\users\\xuzhao\\anaconda3\\lib\\site-packages (from pdpbox) (75.1.0)\n",
      "Requirement already satisfied: sphinx>=5.0.2 in c:\\users\\xuzhao\\anaconda3\\lib\\site-packages (from pdpbox) (7.3.7)\n",
      "Requirement already satisfied: sphinx-rtd-theme>=1.1.1 in c:\\users\\xuzhao\\anaconda3\\lib\\site-packages (from pdpbox) (3.0.1)\n",
      "Requirement already satisfied: tqdm>=4.64.1 in c:\\users\\xuzhao\\anaconda3\\lib\\site-packages (from pdpbox) (4.66.5)\n",
      "Requirement already satisfied: numpydoc>=1.4.0 in c:\\users\\xuzhao\\anaconda3\\lib\\site-packages (from pdpbox) (1.7.0)\n",
      "Requirement already satisfied: xgboost>=1.7.1 in c:\\users\\xuzhao\\anaconda3\\lib\\site-packages (from pdpbox) (2.1.2)\n",
      "Requirement already satisfied: contourpy>=1.0.1 in c:\\users\\xuzhao\\anaconda3\\lib\\site-packages (from matplotlib>=3.6.2->pdpbox) (1.2.0)\n",
      "Requirement already satisfied: cycler>=0.10 in c:\\users\\xuzhao\\anaconda3\\lib\\site-packages (from matplotlib>=3.6.2->pdpbox) (0.11.0)\n",
      "Requirement already satisfied: fonttools>=4.22.0 in c:\\users\\xuzhao\\anaconda3\\lib\\site-packages (from matplotlib>=3.6.2->pdpbox) (4.51.0)\n",
      "Requirement already satisfied: kiwisolver>=1.3.1 in c:\\users\\xuzhao\\anaconda3\\lib\\site-packages (from matplotlib>=3.6.2->pdpbox) (1.4.4)\n",
      "Requirement already satisfied: packaging>=20.0 in c:\\users\\xuzhao\\anaconda3\\lib\\site-packages (from matplotlib>=3.6.2->pdpbox) (24.1)\n",
      "Requirement already satisfied: pillow>=8 in c:\\users\\xuzhao\\anaconda3\\lib\\site-packages (from matplotlib>=3.6.2->pdpbox) (10.4.0)\n",
      "Requirement already satisfied: pyparsing>=2.3.1 in c:\\users\\xuzhao\\anaconda3\\lib\\site-packages (from matplotlib>=3.6.2->pdpbox) (3.1.2)\n",
      "Requirement already satisfied: python-dateutil>=2.7 in c:\\users\\xuzhao\\anaconda3\\lib\\site-packages (from matplotlib>=3.6.2->pdpbox) (2.9.0.post0)\n",
      "Requirement already satisfied: tabulate>=0.8.10 in c:\\users\\xuzhao\\anaconda3\\lib\\site-packages (from numpydoc>=1.4.0->pdpbox) (0.9.0)\n",
      "Requirement already satisfied: pytz>=2020.1 in c:\\users\\xuzhao\\anaconda3\\lib\\site-packages (from pandas>=1.4.4->pdpbox) (2024.1)\n",
      "Requirement already satisfied: tzdata>=2022.7 in c:\\users\\xuzhao\\anaconda3\\lib\\site-packages (from pandas>=1.4.4->pdpbox) (2023.3)\n",
      "Requirement already satisfied: tenacity>=6.2.0 in c:\\users\\xuzhao\\anaconda3\\lib\\site-packages (from plotly>=5.9.0->pdpbox) (8.2.3)\n",
      "Requirement already satisfied: bounded-pool-executor in c:\\users\\xuzhao\\anaconda3\\lib\\site-packages (from pqdm>=0.2.0->pdpbox) (0.0.3)\n",
      "Requirement already satisfied: typing-extensions in c:\\users\\xuzhao\\anaconda3\\lib\\site-packages (from pqdm>=0.2.0->pdpbox) (4.11.0)\n",
      "Requirement already satisfied: scipy>=1.6.0 in c:\\users\\xuzhao\\anaconda3\\lib\\site-packages (from scikit-learn>=1.0.2->pdpbox) (1.13.1)\n",
      "Requirement already satisfied: threadpoolctl>=3.1.0 in c:\\users\\xuzhao\\anaconda3\\lib\\site-packages (from scikit-learn>=1.0.2->pdpbox) (3.5.0)\n",
      "Requirement already satisfied: sphinxcontrib-applehelp in c:\\users\\xuzhao\\anaconda3\\lib\\site-packages (from sphinx>=5.0.2->pdpbox) (1.0.2)\n",
      "Requirement already satisfied: sphinxcontrib-devhelp in c:\\users\\xuzhao\\anaconda3\\lib\\site-packages (from sphinx>=5.0.2->pdpbox) (1.0.2)\n",
      "Requirement already satisfied: sphinxcontrib-jsmath in c:\\users\\xuzhao\\anaconda3\\lib\\site-packages (from sphinx>=5.0.2->pdpbox) (1.0.1)\n",
      "Requirement already satisfied: sphinxcontrib-htmlhelp>=2.0.0 in c:\\users\\xuzhao\\anaconda3\\lib\\site-packages (from sphinx>=5.0.2->pdpbox) (2.0.0)\n",
      "Requirement already satisfied: sphinxcontrib-serializinghtml>=1.1.9 in c:\\users\\xuzhao\\anaconda3\\lib\\site-packages (from sphinx>=5.0.2->pdpbox) (1.1.10)\n",
      "Requirement already satisfied: sphinxcontrib-qthelp in c:\\users\\xuzhao\\anaconda3\\lib\\site-packages (from sphinx>=5.0.2->pdpbox) (1.0.3)\n",
      "Requirement already satisfied: Jinja2>=3.0 in c:\\users\\xuzhao\\anaconda3\\lib\\site-packages (from sphinx>=5.0.2->pdpbox) (3.1.4)\n",
      "Requirement already satisfied: Pygments>=2.14 in c:\\users\\xuzhao\\anaconda3\\lib\\site-packages (from sphinx>=5.0.2->pdpbox) (2.15.1)\n",
      "Requirement already satisfied: docutils<0.22,>=0.18.1 in c:\\users\\xuzhao\\anaconda3\\lib\\site-packages (from sphinx>=5.0.2->pdpbox) (0.18.1)\n",
      "Requirement already satisfied: snowballstemmer>=2.0 in c:\\users\\xuzhao\\anaconda3\\lib\\site-packages (from sphinx>=5.0.2->pdpbox) (2.2.0)\n",
      "Requirement already satisfied: babel>=2.9 in c:\\users\\xuzhao\\anaconda3\\lib\\site-packages (from sphinx>=5.0.2->pdpbox) (2.11.0)\n",
      "Requirement already satisfied: alabaster~=0.7.14 in c:\\users\\xuzhao\\anaconda3\\lib\\site-packages (from sphinx>=5.0.2->pdpbox) (0.7.16)\n",
      "Requirement already satisfied: imagesize>=1.3 in c:\\users\\xuzhao\\anaconda3\\lib\\site-packages (from sphinx>=5.0.2->pdpbox) (1.4.1)\n",
      "Requirement already satisfied: requests>=2.25.0 in c:\\users\\xuzhao\\anaconda3\\lib\\site-packages (from sphinx>=5.0.2->pdpbox) (2.32.3)\n",
      "Requirement already satisfied: colorama>=0.4.5 in c:\\users\\xuzhao\\anaconda3\\lib\\site-packages (from sphinx>=5.0.2->pdpbox) (0.4.6)\n",
      "Requirement already satisfied: sphinxcontrib-jquery<5,>=4 in c:\\users\\xuzhao\\anaconda3\\lib\\site-packages (from sphinx-rtd-theme>=1.1.1->pdpbox) (4.1)\n",
      "Requirement already satisfied: iniconfig in c:\\users\\xuzhao\\anaconda3\\lib\\site-packages (from pytest->pdpbox) (1.1.1)\n",
      "Requirement already satisfied: pluggy<2.0,>=0.12 in c:\\users\\xuzhao\\anaconda3\\lib\\site-packages (from pytest->pdpbox) (1.0.0)\n",
      "Requirement already satisfied: MarkupSafe>=2.0 in c:\\users\\xuzhao\\anaconda3\\lib\\site-packages (from Jinja2>=3.0->sphinx>=5.0.2->pdpbox) (2.1.3)\n",
      "Requirement already satisfied: six>=1.5 in c:\\users\\xuzhao\\anaconda3\\lib\\site-packages (from python-dateutil>=2.7->matplotlib>=3.6.2->pdpbox) (1.16.0)\n",
      "Requirement already satisfied: charset-normalizer<4,>=2 in c:\\users\\xuzhao\\anaconda3\\lib\\site-packages (from requests>=2.25.0->sphinx>=5.0.2->pdpbox) (3.3.2)\n",
      "Requirement already satisfied: idna<4,>=2.5 in c:\\users\\xuzhao\\anaconda3\\lib\\site-packages (from requests>=2.25.0->sphinx>=5.0.2->pdpbox) (3.7)\n",
      "Requirement already satisfied: urllib3<3,>=1.21.1 in c:\\users\\xuzhao\\anaconda3\\lib\\site-packages (from requests>=2.25.0->sphinx>=5.0.2->pdpbox) (2.2.3)\n",
      "Requirement already satisfied: certifi>=2017.4.17 in c:\\users\\xuzhao\\anaconda3\\lib\\site-packages (from requests>=2.25.0->sphinx>=5.0.2->pdpbox) (2024.8.30)\n"
     ]
    }
   ],
   "source": [
    "!pip install pdpbox"
   ]
  },
  {
   "cell_type": "code",
   "execution_count": 9,
   "id": "e19f4ef1-e736-4395-a6b4-040325929231",
   "metadata": {},
   "outputs": [
    {
     "ename": "ImportError",
     "evalue": "cannot import name 'get_examlpe' from 'pdpbox' (C:\\Users\\XUZHAO\\anaconda3\\Lib\\site-packages\\pdpbox\\__init__.py)",
     "output_type": "error",
     "traceback": [
      "\u001b[1;31m---------------------------------------------------------------------------\u001b[0m",
      "\u001b[1;31mImportError\u001b[0m                               Traceback (most recent call last)",
      "Cell \u001b[1;32mIn[9], line 7\u001b[0m\n\u001b[0;32m      5\u001b[0m \u001b[38;5;28;01mimport\u001b[39;00m \u001b[38;5;21;01mwarnings\u001b[39;00m\n\u001b[0;32m      6\u001b[0m warnings\u001b[38;5;241m.\u001b[39mfilterwarnings(\u001b[38;5;124m\"\u001b[39m\u001b[38;5;124mignore\u001b[39m\u001b[38;5;124m\"\u001b[39m)\n\u001b[1;32m----> 7\u001b[0m \u001b[38;5;28;01mfrom\u001b[39;00m \u001b[38;5;21;01mpdpbox\u001b[39;00m \u001b[38;5;28;01mimport\u001b[39;00m pdp, get_examlpe, info_plots\n\u001b[0;32m      9\u001b[0m df \u001b[38;5;241m=\u001b[39m pd\u001b[38;5;241m.\u001b[39mread_csv(\u001b[38;5;124m'\u001b[39m\u001b[38;5;124mprocess_heart.csv\u001b[39m\u001b[38;5;124m'\u001b[39m)\n",
      "\u001b[1;31mImportError\u001b[0m: cannot import name 'get_examlpe' from 'pdpbox' (C:\\Users\\XUZHAO\\anaconda3\\Lib\\site-packages\\pdpbox\\__init__.py)"
     ]
    }
   ],
   "source": [
    "import numpy as np\n",
    "import pandas as pd\n",
    "import matplotlib.pyplot as plt\n",
    "%matplotlib inline\n",
    "import warnings\n",
    "warnings.filterwarnings(\"ignore\")\n",
    "from pdpbox import pdp, get_examlpe, info_plots\n",
    "\n",
    "df = pd.read_csv('process_heart.csv')"
   ]
  },
  {
   "cell_type": "code",
   "execution_count": 8,
   "id": "85d799e1-da1d-4919-85cd-98442b53868a",
   "metadata": {},
   "outputs": [
    {
     "ename": "AttributeError",
     "evalue": "module 'pdpbox.info_plots' has no attribute 'target_plot'",
     "output_type": "error",
     "traceback": [
      "\u001b[1;31m---------------------------------------------------------------------------\u001b[0m",
      "\u001b[1;31mAttributeError\u001b[0m                            Traceback (most recent call last)",
      "Cell \u001b[1;32mIn[8], line 1\u001b[0m\n\u001b[1;32m----> 1\u001b[0m fig, axes, summary_df \u001b[38;5;241m=\u001b[39m info_plots\u001b[38;5;241m.\u001b[39mtarget_plot(\n\u001b[0;32m      2\u001b[0m     df\u001b[38;5;241m=\u001b[39mdf, feature\u001b[38;5;241m=\u001b[39m\u001b[38;5;124m'\u001b[39m\u001b[38;5;124msex_male\u001b[39m\u001b[38;5;124m'\u001b[39m, feature_name\u001b[38;5;241m=\u001b[39m\u001b[38;5;124m'\u001b[39m\u001b[38;5;124mgender\u001b[39m\u001b[38;5;124m'\u001b[39m, target\u001b[38;5;241m=\u001b[39m[\u001b[38;5;124m'\u001b[39m\u001b[38;5;124mtarget\u001b[39m\u001b[38;5;124m'\u001b[39m]\n\u001b[0;32m      3\u001b[0m )\n\u001b[0;32m      4\u001b[0m _\u001b[38;5;241m=\u001b[39maxes[\u001b[38;5;124m'\u001b[39m\u001b[38;5;124mbar_ax\u001b[39m\u001b[38;5;124m'\u001b[39m]\u001b[38;5;241m.\u001b[39mset_xticklabels([\u001b[38;5;124m'\u001b[39m\u001b[38;5;124mFemale\u001b[39m\u001b[38;5;124m'\u001b[39m, \u001b[38;5;124m'\u001b[39m\u001b[38;5;124mMale\u001b[39m\u001b[38;5;124m'\u001b[39m])\n",
      "\u001b[1;31mAttributeError\u001b[0m: module 'pdpbox.info_plots' has no attribute 'target_plot'"
     ]
    }
   ],
   "source": [
    "fig, axes, summary_df = info_plots.target_plot(\n",
    "    df=df, feature='sex_male', feature_name='gender', target=['target']\n",
    ")\n",
    "_=axes['bar_ax'].set_xticklabels(['Female', 'Male'])"
   ]
  }
 ],
 "metadata": {
  "kernelspec": {
   "display_name": "Python 3 (ipykernel)",
   "language": "python",
   "name": "python3"
  },
  "language_info": {
   "codemirror_mode": {
    "name": "ipython",
    "version": 3
   },
   "file_extension": ".py",
   "mimetype": "text/x-python",
   "name": "python",
   "nbconvert_exporter": "python",
   "pygments_lexer": "ipython3",
   "version": "3.12.7"
  }
 },
 "nbformat": 4,
 "nbformat_minor": 5
}
