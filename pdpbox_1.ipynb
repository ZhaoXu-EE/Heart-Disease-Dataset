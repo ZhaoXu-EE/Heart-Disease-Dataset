{
 "cells": [
  {
   "cell_type": "code",
   "execution_count": 1,
   "id": "56c1fb7f-d6e4-4a1d-9c32-90c5d187c71e",
   "metadata": {},
   "outputs": [],
   "source": [
    "import numpy as np\n",
    "import pandas as pd\n",
    "import matplotlib.pyplot as plt\n",
    "%matplotlib inline\n",
    "import warnings\n",
    "warnings.filterwarnings(\"ignore\")\n",
    "\n",
    "df = pd.read_csv('process_heart.csv')\n",
    "\n",
    "X = df.drop('target', axis=1)\n",
    "y = df['target']\n",
    "\n",
    "from sklearn.model_selection import train_test_split\n",
    "X_train, X_test, y_train, y_test = train_test_split(X, y, test_size=0.2, random_state=10)\n",
    "\n",
    "from sklearn.ensemble import RandomForestClassifier\n",
    "model = RandomForestClassifier(max_depth=5, n_estimators=100, random_state=5)\n",
    "model.fit(X_train, y_train)\n",
    "\n",
    "y_predict = model.predict(X_test)"
   ]
  },
  {
   "cell_type": "code",
   "execution_count": 2,
   "id": "7c1e8d60-3bcc-41a4-9699-43d52fcbdd5d",
   "metadata": {},
   "outputs": [
    {
     "data": {
      "text/plain": [
       "['age',\n",
       " 'resting_blood_pressure',\n",
       " 'cholestoral',\n",
       " 'maximum_heart_rate',\n",
       " 'ST_depression',\n",
       " 'major_vessels_num',\n",
       " 'sex_female',\n",
       " 'sex_male',\n",
       " 'chest_pain_type_asymptomatic',\n",
       " 'chest_pain_type_atypical angina',\n",
       " 'chest_pain_type_non-anginal pain',\n",
       " 'chest_pain_type_typical angina',\n",
       " 'fasting_blood_sugar_greater than 120mg/ml',\n",
       " 'fasting_blood_sugar_lower than 120mg/ml',\n",
       " 'resting_electrocardiographic_ST-T wave abnormality',\n",
       " 'resting_electrocardiographic_left ventricular hypertrophy',\n",
       " 'resting_electrocardiographic_normal',\n",
       " 'exercise_induced_angina_no',\n",
       " 'exercise_induced_angina_yes',\n",
       " 'ST_slope_downsloping',\n",
       " 'ST_slope_flat',\n",
       " 'ST_slope_upsloping',\n",
       " 'thalassemia_fixed defect',\n",
       " 'thalassemia_normal',\n",
       " 'thalassemia_reversable defect',\n",
       " 'thalassemia_unknown']"
      ]
     },
     "execution_count": 2,
     "metadata": {},
     "output_type": "execute_result"
    }
   ],
   "source": [
    "base_features = df.columns.values.tolist()\n",
    "base_features.remove('target')\n",
    "base_features"
   ]
  },
  {
   "cell_type": "markdown",
   "id": "eea9a45e-4cf7-41b4-8014-39681e3224ee",
   "metadata": {},
   "source": [
    "# import pdpbox tool package"
   ]
  },
  {
   "cell_type": "code",
   "execution_count": 7,
   "id": "07253406-e4ac-4172-87cf-7d87840d23cf",
   "metadata": {
    "scrolled": true
   },
   "outputs": [],
   "source": [
    "from pdpbox import info_plots, pdp"
   ]
  },
  {
   "cell_type": "markdown",
   "id": "be5011e7-deb0-4428-88c0-4df2a25ff604",
   "metadata": {},
   "source": [
    "# PDP diagram"
   ]
  },
  {
   "cell_type": "code",
   "execution_count": null,
   "id": "90fc907f-8f79-4a09-9e4d-0cf8992cfa9e",
   "metadata": {},
   "outputs": [],
   "source": []
  },
  {
   "cell_type": "markdown",
   "id": "addb1d53-5009-447b-89b2-679a50b8e5fe",
   "metadata": {},
   "source": [
    "## gender"
   ]
  },
  {
   "cell_type": "code",
   "execution_count": 8,
   "id": "4f7fb30e-39ac-4d8a-b5f8-76946df41d9d",
   "metadata": {},
   "outputs": [
    {
     "ename": "AttributeError",
     "evalue": "module 'pdpbox.info_plots' has no attribute 'actual_plot'",
     "output_type": "error",
     "traceback": [
      "\u001b[1;31m---------------------------------------------------------------------------\u001b[0m",
      "\u001b[1;31mAttributeError\u001b[0m                            Traceback (most recent call last)",
      "Cell \u001b[1;32mIn[8], line 1\u001b[0m\n\u001b[1;32m----> 1\u001b[0m fig, axes, summary_df \u001b[38;5;241m=\u001b[39m info_plots\u001b[38;5;241m.\u001b[39mactual_plot(\n\u001b[0;32m      2\u001b[0m     model\u001b[38;5;241m=\u001b[39mmodel, X\u001b[38;5;241m=\u001b[39mX_train, feature\u001b[38;5;241m=\u001b[39m\u001b[38;5;124m'\u001b[39m\u001b[38;5;124msex_male\u001b[39m\u001b[38;5;124m'\u001b[39m, feature_name\u001b[38;5;241m=\u001b[39m\u001b[38;5;124m'\u001b[39m\u001b[38;5;124mgender\u001b[39m\u001b[38;5;124m'\u001b[39m, perdict_kwds\u001b[38;5;241m=\u001b[39m{}\n\u001b[0;32m      3\u001b[0m )\n",
      "\u001b[1;31mAttributeError\u001b[0m: module 'pdpbox.info_plots' has no attribute 'actual_plot'"
     ]
    }
   ],
   "source": [
    "fig, axes, summary_df = info_plots.actual_plot(\n",
    "    model=model, X=X_train, feature='sex_male', feature_name='gender', perdict_kwds={}\n",
    ")"
   ]
  },
  {
   "cell_type": "code",
   "execution_count": 9,
   "id": "6ada49d8-8371-44a7-8354-e89277c72c1d",
   "metadata": {},
   "outputs": [
    {
     "ename": "AttributeError",
     "evalue": "module 'pdpbox.info_plots' has no attribute 'target_plot'",
     "output_type": "error",
     "traceback": [
      "\u001b[1;31m---------------------------------------------------------------------------\u001b[0m",
      "\u001b[1;31mAttributeError\u001b[0m                            Traceback (most recent call last)",
      "Cell \u001b[1;32mIn[9], line 1\u001b[0m\n\u001b[1;32m----> 1\u001b[0m fig, axes, summary_df \u001b[38;5;241m=\u001b[39m info_plots\u001b[38;5;241m.\u001b[39mtarget_plot(\n\u001b[0;32m      2\u001b[0m     model\u001b[38;5;241m=\u001b[39mmodel, X\u001b[38;5;241m=\u001b[39mX_train, feature\u001b[38;5;241m=\u001b[39m\u001b[38;5;124m'\u001b[39m\u001b[38;5;124msex_male\u001b[39m\u001b[38;5;124m'\u001b[39m, feature_name\u001b[38;5;241m=\u001b[39m\u001b[38;5;124m'\u001b[39m\u001b[38;5;124mgender\u001b[39m\u001b[38;5;124m'\u001b[39m, perdict_kwds\u001b[38;5;241m=\u001b[39m{}\n\u001b[0;32m      3\u001b[0m )\n",
      "\u001b[1;31mAttributeError\u001b[0m: module 'pdpbox.info_plots' has no attribute 'target_plot'"
     ]
    }
   ],
   "source": [
    "fig, axes, summary_df = info_plots.target_plot(\n",
    "    model=model, X=X_train, feature='sex_male', feature_name='gender', perdict_kwds={}\n",
    ")"
   ]
  },
  {
   "cell_type": "code",
   "execution_count": 11,
   "id": "143730d1-1009-4727-ab62-fad021482111",
   "metadata": {},
   "outputs": [
    {
     "ename": "ImportError",
     "evalue": "cannot import name 'pdp_isolate' from 'pdpbox' (C:\\Users\\XUZHAO\\anaconda3\\Lib\\site-packages\\pdpbox\\__init__.py)",
     "output_type": "error",
     "traceback": [
      "\u001b[1;31m---------------------------------------------------------------------------\u001b[0m",
      "\u001b[1;31mImportError\u001b[0m                               Traceback (most recent call last)",
      "Cell \u001b[1;32mIn[11], line 1\u001b[0m\n\u001b[1;32m----> 1\u001b[0m \u001b[38;5;28;01mfrom\u001b[39;00m \u001b[38;5;21;01mpdpbox\u001b[39;00m \u001b[38;5;28;01mimport\u001b[39;00m pdp_isolate, pdp_plot\n\u001b[0;32m      2\u001b[0m pdp_iso \u001b[38;5;241m=\u001b[39m pdp_isolate(model\u001b[38;5;241m=\u001b[39mmodel, dataset\u001b[38;5;241m=\u001b[39mX_train, model_features\u001b[38;5;241m=\u001b[39mX_train\u001b[38;5;241m.\u001b[39mcolumns, feature\u001b[38;5;241m=\u001b[39m\u001b[38;5;124m'\u001b[39m\u001b[38;5;124msex_male\u001b[39m\u001b[38;5;124m'\u001b[39m)\n\u001b[0;32m      3\u001b[0m pdp_plot(pdp_iso, feature_name\u001b[38;5;241m=\u001b[39m\u001b[38;5;124m'\u001b[39m\u001b[38;5;124mgender\u001b[39m\u001b[38;5;124m'\u001b[39m)\n",
      "\u001b[1;31mImportError\u001b[0m: cannot import name 'pdp_isolate' from 'pdpbox' (C:\\Users\\XUZHAO\\anaconda3\\Lib\\site-packages\\pdpbox\\__init__.py)"
     ]
    }
   ],
   "source": [
    "from pdpbox import pdp_isolate, pdp_plot\n",
    "pdp_iso = pdp_isolate(model=model, dataset=X_train, model_features=X_train.columns, feature='sex_male')\n",
    "pdp_plot(pdp_iso, feature_name='gender')"
   ]
  },
  {
   "cell_type": "code",
   "execution_count": 12,
   "id": "11473cd6-86f8-46ec-b41f-ebd51a2ba3d9",
   "metadata": {},
   "outputs": [
    {
     "ename": "AttributeError",
     "evalue": "module 'pdpbox.pdp' has no attribute 'pdp_interact'",
     "output_type": "error",
     "traceback": [
      "\u001b[1;31m---------------------------------------------------------------------------\u001b[0m",
      "\u001b[1;31mAttributeError\u001b[0m                            Traceback (most recent call last)",
      "Cell \u001b[1;32mIn[12], line 1\u001b[0m\n\u001b[1;32m----> 1\u001b[0m interl \u001b[38;5;241m=\u001b[39m pdp\u001b[38;5;241m.\u001b[39mpdp_interact()\n",
      "\u001b[1;31mAttributeError\u001b[0m: module 'pdpbox.pdp' has no attribute 'pdp_interact'"
     ]
    }
   ],
   "source": [
    "interl = pdp.pdp_interact()"
   ]
  },
  {
   "cell_type": "code",
   "execution_count": null,
   "id": "f9856f2d-f5ed-4032-b945-d06b21ce6ad1",
   "metadata": {},
   "outputs": [],
   "source": []
  }
 ],
 "metadata": {
  "kernelspec": {
   "display_name": "Python 3 (ipykernel)",
   "language": "python",
   "name": "python3"
  },
  "language_info": {
   "codemirror_mode": {
    "name": "ipython",
    "version": 3
   },
   "file_extension": ".py",
   "mimetype": "text/x-python",
   "name": "python",
   "nbconvert_exporter": "python",
   "pygments_lexer": "ipython3",
   "version": "3.12.7"
  }
 },
 "nbformat": 4,
 "nbformat_minor": 5
}
